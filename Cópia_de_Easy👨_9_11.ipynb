{
  "nbformat": 4,
  "nbformat_minor": 0,
  "metadata": {
    "colab": {
      "private_outputs": true,
      "provenance": [],
      "gpuType": "T4",
      "include_colab_link": true
    },
    "kernelspec": {
      "name": "python3",
      "display_name": "Python 3"
    },
    "language_info": {
      "name": "python"
    },
    "accelerator": "GPU"
  },
  "cells": [
    {
      "cell_type": "markdown",
      "metadata": {
        "id": "view-in-github",
        "colab_type": "text"
      },
      "source": [
        "<a href=\"https://colab.research.google.com/github/carlos-campelo/python/blob/main/C%C3%B3pia_de_Easy%F0%9F%91%A8_9_11.ipynb\" target=\"_parent\"><img src=\"https://colab.research.google.com/assets/colab-badge.svg\" alt=\"Open In Colab\"/></a>"
      ]
    },
    {
      "cell_type": "markdown",
      "source": [
        "[![smaller.png](data:image/png;base64,iVBORw0KGgoAAAANSUhEUgAAAEAAAAASCAYAAADrL9giAAAAAXNSR0IB2cksfwAAAAlwSFlzAAALEwAACxMBAJqcGAAABOlJREFUeJzdWAlMVEcYXqs9IxEJtjTVqmmbtAkRVhQPqq1HlUtrKlas2tYQDjlEUc5djoXlEuhCBDkKu4AgKLuc6y6wyHKIoGlTTqmlKTclUm2b1jZFeV/nDe2a5RIiSu0mXzLz5v/n/d8330zeLIczwQ/JJhsh3ZvB1PLamWvCn5jrob8+lWgIGWJqfFtxYVcq4WQ0EdexxJdBaa9ibqSAGbj0/0LrWaDoUDHhqD8ZeS7q/IeYfvncF/u4QLhBfaqXcH1jDPnVBrjCH5rzAp8QUHmih4igqxGAkX+uZPpLpky621kCv9AUeIUkU/DDU1Aoy8b9vrknNGP0FQMFtmn/Wt+QaUseeVhSdVkuFm8QjkPMGfG42N87i+HAC9NAfC6RCDW7W6urSfpoc3wTM0K4L+cgxzJ+OvtelCAeJb0+GHqmgRpY2X0xLramIhMcEwd85iXE/hMCzF/rCGGsaNbIh4hE8AqPerR52PPgvIUrh1GfvD6dBBdeIhVAn+uDlw3dNdC1y0J5c7VWrH9UDBZtcsFI/2jf2T8ceu+70nbuxRS8tcuD9q0c/fEbccsv3xfBZL8XvMOj8eoHx7DlCI86prtZinWfeGPxey7g7vPEjzfy6dzPr3fCsp3uGGjLh2foaZqzlPSl0tSZiaCwv8Rh6oP6phNsfkREBVhi7PlAACMPzBe1IPZqg1bsh84B2GnP1/TZ1X9mjSO6GqV4gRSfkBpPLbzC4jjiSbtckU4dk5iWgIL8VNoeJGTlxWKExcWiv00G3c0uuJCXAkWJhI6nZyUhWZKAlzYeRXN9DqIS4qC/xXVGAkDl+i0RQDAtAd62jBjdAubR0LUWQeegGAsivwYnrRvq1iqt2OWEWGR8rKb/kWsg3tlzkj5jnXHvn/Ngw0Ef+EVGwycimq4g65jM7CQ8t84Jf/XKcZqQMnfgw+ywL+atccBXteeRlZOMZ00d8Wd3CSyJg3TedcZ2Ox5MD3jTrXa/f6YCVD58C/zRJYe+WSgVYN6XnZQ0i3kEh5RNWi9lD0C2EIVcQonmkxVlC84gKxYZH0ftPEzIsav64oajdNz6aADsfENpvhM/nNq+t0VGSTfW5VBRWAfd7SqGIz8MRjanaOweIuxuknv7u0JUlWeipSF3ZltAaS/nINv8DDMw9SHYWi+l5HW3xYAj7oFe5g+obatCe0cFRsbEqssyqEV1NjljEbHtAkL+eHAkEUmOOx2FxB3uWLXXE69sc4ONu4CK9Lq5O1IkZ2k+u5IB0TH0XFho5kzFWLLVFQbb3ej4PvcgKqJMlop6dRYWEgeYHfah71MS0acvAD0E3TgQcw2ZBk+GaY3EZFBkh2OVtRAr7dPpym/NuzZpbG9NCMpz/DS4WR6oNX67QQj1RR6uFfIx3BRBn12+wMOteiFt10j56CNzsO2bqiBU5/HQURFEY9hnt66GoCKXh8G60fhOtQCqHB46K4MmrWlCXDnGII27YvRboMCqjGkSgGkKnhQjjcEQlUux9Fw7BKVFU8b+59EoAKQ7xA8+hSXc1xjVp3fmvLAnBCg+HkA6V0/7PpBOLkOqQz/PdXGPnbxy/yDh+ubEN8J045Uo2n2ZqfeY80JnHXVuQKGVDBJjg6n/E5AYc5CxejPyLZJwyaYHpbb3UHoATydsh6Gw6YRsRyzhtJYc+OP4/g0y+rzVxj9THAAAAABJRU5ErkJggg==)](https://paypal.me/lesantillan)"
      ],
      "metadata": {
        "id": "Vc01O8jLgcFW"
      }
    },
    {
      "cell_type": "code",
      "source": [
        "#@markdown #Open the public URL that will appear below.\n",
        "tensorboard = True #@param {type:\"boolean\"}\n",
        "if not \"installed\" in locals():\n",
        "    from IPython.display import clear_output\n",
        "    from ipywidgets import Button\n",
        "    %cd /content\n",
        "    !git clone https://github.com/luisesantillan/project\n",
        "    %cd /content/project\n",
        "    !pip install -r requirements.txt\n",
        "    !wget https://huggingface.co/Rejekts/project/resolve/main/rmvpe.pt -O ./assets/rmvpe/rmvpe.pt\n",
        "    !wget https://huggingface.co/Rejekts/project/resolve/main/hubert_base.pt -O ./assets/hubert/hubert_base.pt\n",
        "    !wget https://huggingface.co/Rejekts/project/resolve/main/D40k.pth -O ./assets/pretrained_v2/D40k.pth\n",
        "    !wget https://huggingface.co/Rejekts/project/resolve/main/G40k.pth -O ./assets/pretrained_v2/G40k.pth\n",
        "    !wget https://huggingface.co/Rejekts/project/resolve/main/f0D40k.pth -O ./assets/pretrained_v2/f0D40k.pth\n",
        "    !wget https://huggingface.co/Rejekts/project/resolve/main/f0G40k.pth -O ./assets/pretrained_v2/f0G40k.pth\n",
        "    clear_output()\n",
        "    Button(description=\"\\u2714 Installed\", button_style=\"success\")\n",
        "    installed = True\n",
        "if tensorboard:\n",
        "    %load_ext tensorboard\n",
        "    %tensorboard --logdir ./logs\n",
        "!python app.py --colab"
      ],
      "metadata": {
        "id": "Sb5fzhzEXK8X"
      },
      "execution_count": null,
      "outputs": []
    }
  ]
}